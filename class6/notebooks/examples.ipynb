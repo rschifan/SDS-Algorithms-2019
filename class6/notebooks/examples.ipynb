{
 "cells": [
  {
   "cell_type": "code",
   "execution_count": 1,
   "metadata": {},
   "outputs": [],
   "source": [
    "class Person:\n",
    "\n",
    "    TITLES = ('Dr', 'Mr', 'Mrs', 'Ms')\n",
    "\n",
    "    def __init__(self, title, name, surname):\n",
    "        if title not in self.TITLES:\n",
    "            raise ValueError(\"%s is not a valid title.\" % title)\n",
    "\n",
    "        self.title = title\n",
    "        self.name = name\n",
    "        self.surname = surname"
   ]
  },
  {
   "cell_type": "code",
   "execution_count": 2,
   "metadata": {},
   "outputs": [],
   "source": [
    "p = Person('Dr', 'Rossano', 'Schifanella')"
   ]
  },
  {
   "cell_type": "code",
   "execution_count": 3,
   "metadata": {},
   "outputs": [
    {
     "data": {
      "text/plain": [
       "<__main__.Person at 0x10fb38390>"
      ]
     },
     "execution_count": 3,
     "metadata": {},
     "output_type": "execute_result"
    }
   ],
   "source": [
    "p"
   ]
  },
  {
   "cell_type": "code",
   "execution_count": 4,
   "metadata": {},
   "outputs": [
    {
     "data": {
      "text/plain": [
       "('Dr', 'Mr', 'Mrs', 'Ms')"
      ]
     },
     "execution_count": 4,
     "metadata": {},
     "output_type": "execute_result"
    }
   ],
   "source": [
    "p.TITLES"
   ]
  },
  {
   "cell_type": "code",
   "execution_count": 5,
   "metadata": {},
   "outputs": [
    {
     "data": {
      "text/plain": [
       "('Dr', 'Mr', 'Mrs', 'Ms')"
      ]
     },
     "execution_count": 5,
     "metadata": {},
     "output_type": "execute_result"
    }
   ],
   "source": [
    "Person.TITLES"
   ]
  },
  {
   "cell_type": "code",
   "execution_count": 6,
   "metadata": {},
   "outputs": [
    {
     "name": "stdout",
     "output_type": "stream",
     "text": [
      "['cat']\n",
      "['cat']\n"
     ]
    }
   ],
   "source": [
    "class Person:\n",
    "    pets = []\n",
    "\n",
    "    def add_pet(self, pet):\n",
    "        self.pets.append(pet)\n",
    "\n",
    "jane = Person()\n",
    "bob = Person()\n",
    "\n",
    "jane.add_pet(\"cat\")\n",
    "print(jane.pets)\n",
    "print(bob.pets) # oops!"
   ]
  },
  {
   "cell_type": "code",
   "execution_count": 7,
   "metadata": {},
   "outputs": [
    {
     "name": "stdout",
     "output_type": "stream",
     "text": [
      "Jane Smith\n",
      "['Mr', 'Mrs', 'Ms']\n",
      "['Mr', 'Mrs', 'Ms']\n",
      "['Mrs', 'Ms']\n",
      "['Mrs', 'Ms']\n"
     ]
    }
   ],
   "source": [
    "class Person:\n",
    "    TITLES = ('Dr', 'Mr', 'Mrs', 'Ms')\n",
    "\n",
    "    def __init__(self, name, surname):\n",
    "        self.name = name\n",
    "        self.surname = surname\n",
    "\n",
    "    def fullname(self): # instance method\n",
    "        # instance object accessible through self\n",
    "        return \"%s %s\" % (self.name, self.surname)\n",
    "\n",
    "    @classmethod\n",
    "    def allowed_titles_starting_with(cls, startswith): # class method\n",
    "        # class or instance object accessible through cls\n",
    "        return [t for t in cls.TITLES if t.startswith(startswith)]\n",
    "\n",
    "    @staticmethod\n",
    "    def allowed_titles_ending_with(endswith): # static method\n",
    "        # no parameter for class or instance object\n",
    "        # we have to use Person directly\n",
    "        return [t for t in Person.TITLES if t.endswith(endswith)]\n",
    "\n",
    "\n",
    "jane = Person(\"Jane\", \"Smith\")\n",
    "\n",
    "print(jane.fullname())\n",
    "\n",
    "print(jane.allowed_titles_starting_with(\"M\"))\n",
    "print(Person.allowed_titles_starting_with(\"M\"))\n",
    "\n",
    "print(jane.allowed_titles_ending_with(\"s\"))\n",
    "print(Person.allowed_titles_ending_with(\"s\"))"
   ]
  },
  {
   "cell_type": "code",
   "execution_count": 8,
   "metadata": {},
   "outputs": [
    {
     "data": {
      "text/plain": [
       "['TITLES',\n",
       " '__class__',\n",
       " '__delattr__',\n",
       " '__dict__',\n",
       " '__dir__',\n",
       " '__doc__',\n",
       " '__eq__',\n",
       " '__format__',\n",
       " '__ge__',\n",
       " '__getattribute__',\n",
       " '__gt__',\n",
       " '__hash__',\n",
       " '__init__',\n",
       " '__init_subclass__',\n",
       " '__le__',\n",
       " '__lt__',\n",
       " '__module__',\n",
       " '__ne__',\n",
       " '__new__',\n",
       " '__reduce__',\n",
       " '__reduce_ex__',\n",
       " '__repr__',\n",
       " '__setattr__',\n",
       " '__sizeof__',\n",
       " '__str__',\n",
       " '__subclasshook__',\n",
       " '__weakref__',\n",
       " 'allowed_titles_ending_with',\n",
       " 'allowed_titles_starting_with',\n",
       " 'fullname',\n",
       " 'name',\n",
       " 'surname']"
      ]
     },
     "execution_count": 8,
     "metadata": {},
     "output_type": "execute_result"
    }
   ],
   "source": [
    "dir(jane)"
   ]
  },
  {
   "cell_type": "code",
   "execution_count": 9,
   "metadata": {},
   "outputs": [],
   "source": [
    "class Person:\n",
    "    def __init__(self, name, surname):\n",
    "        self.name = name\n",
    "        self.surname = surname\n",
    "\n",
    "    def __eq__(self, other): # does self == other?\n",
    "        return self.name == other.name and self.surname == other.surname\n",
    "\n",
    "    def __gt__(self, other): # is self > other?\n",
    "        if self.surname == other.surname:\n",
    "            return self.name > other.name\n",
    "        return self.surname > other.surname\n",
    "\n",
    "    # now we can define all the other methods in terms of the first two\n",
    "\n",
    "    def __ne__(self, other): # does self != other?\n",
    "        return not self == other # this calls self.__eq__(other)\n",
    "\n",
    "    def __le__(self, other): # is self <= other?\n",
    "        return not self > other # this calls self.__gt__(other)\n",
    "\n",
    "    def __lt__(self, other): # is self < other?\n",
    "        return not (self > other or self == other)\n",
    "\n",
    "    def __ge__(self, other): # is self >= other?\n",
    "        return not self < other"
   ]
  },
  {
   "cell_type": "code",
   "execution_count": 13,
   "metadata": {},
   "outputs": [],
   "source": [
    "class A:\n",
    "    def m(self):\n",
    "        print(\"m of A called\")\n",
    "\n",
    "class B(A):\n",
    "    def m(self):\n",
    "        print(\"m of B called\")\n",
    "    \n",
    "class C(A):\n",
    "    def m(self):\n",
    "        print(\"m of C called\")\n",
    "\n",
    "class D(B,C):\n",
    "    pass"
   ]
  },
  {
   "cell_type": "code",
   "execution_count": 14,
   "metadata": {},
   "outputs": [],
   "source": [
    "x = D()"
   ]
  },
  {
   "cell_type": "code",
   "execution_count": 15,
   "metadata": {},
   "outputs": [
    {
     "name": "stdout",
     "output_type": "stream",
     "text": [
      "m of B called\n"
     ]
    }
   ],
   "source": [
    "x.m()"
   ]
  },
  {
   "cell_type": "code",
   "execution_count": 30,
   "metadata": {},
   "outputs": [
    {
     "name": "stdout",
     "output_type": "stream",
     "text": [
      "2\n"
     ]
    }
   ],
   "source": [
    "def f1(x):\n",
    "    x = 3\n",
    "\n",
    "\n",
    "y = 2\n",
    "f1(y)\n",
    "print(y)"
   ]
  },
  {
   "cell_type": "code",
   "execution_count": null,
   "metadata": {},
   "outputs": [],
   "source": []
  }
 ],
 "metadata": {
  "kernelspec": {
   "display_name": "Python 2",
   "language": "python",
   "name": "python2"
  },
  "language_info": {
   "codemirror_mode": {
    "name": "ipython",
    "version": 3
   },
   "file_extension": ".py",
   "mimetype": "text/x-python",
   "name": "python",
   "nbconvert_exporter": "python",
   "pygments_lexer": "ipython3",
   "version": "3.6.4"
  }
 },
 "nbformat": 4,
 "nbformat_minor": 2
}
